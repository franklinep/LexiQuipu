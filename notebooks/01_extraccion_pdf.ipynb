{
 "cells": [
  {
   "cell_type": "markdown",
   "metadata": {},
   "source": [
    "# **Extracción del texto de los PDF**\n",
    "\n",
    "Vamos a trabajar con documentos (.pdf) en el el cual son resoluciones judiciales de la corte suprema, y estos presentan una estructura \"semi-estructurada\".\n",
    "\n",
    "## **Desafios que debemos de cumplir en esta Fase**\n",
    "\n",
    "- **Ruido Visual y Metadatos:** Las cabeceras (CORTE SUPREMA DE JUSTICIA), los pies de página (Página X de Y) y, especialmente, los bloques de SINOE (Sistema de Notificaciones Electrónicas) son \"ruido\". Contienen información sobre los vocales supremos, fechas y firmas digitales que no son parte del contenido jurídico de la sentencia.\n",
    "- **Diseño Multi-columna y Bloques Flotantes:** Los bloques de SINOE a menudo se presentan en columnas laterales o intercalados, rompiendo el flujo natural del texto principal. Una extracción ingenua mezclaría el contenido de estos bloques con los párrafos de la sentencia.\n",
    "- **Identificadores y Títulos:** Los documentos tienen identificadores claros como \"Casación Laboral N.° XXXXX-2022\", que son metadatos valiosos.\n",
    "- **Contenido Estructurado:** Afortunadamente, los documentos tienen una estructura lógica clara que podemos aprovechar.\n",
    "\n",
    "## **Elementos que podemos ignorar (Ruido)**\n",
    "\n",
    "- Todo el contenido dentro de los recuadros de SINOE.\n",
    "- La cabecera repetitiva: SEGUNDA SALA DE DERECHO CONSTITUCIONAL Y SOCIAL TRANSITORIA...\n",
    "- El número de página en el pie de página.\n",
    "- Las iniciales de los responsables al final del documento (ej. JBA/LZCR).\n",
    "\n",
    "## **Elementos que nos interesa seleccionar**\n",
    "\n",
    "- **Metadatos Principales:** El número de casación (Casación Laboral N.°...), el distrito judicial (Huánuco, La Libertad), la materia (Relación laboral indeterminado y otros) y la fecha de la sentencia (uno de agosto de dos mil veinticuatro).\n",
    "- **Sumilla:** Este es un resumen de oro. Es un candidato perfecto para ser un \"chunk\" de alta calidad o metadato por sí mismo.\n",
    "- **Considerandos:** El corazón de la resolución. Están numerados (Primero., Segundo., etc.), lo que nos da un punto de anclaje perfecto para la fragmentación. Cada \"Considerando\" desarrolla un argumento o un punto fáctico.\n",
    "- **Decisión:** La parte final (DECISIÓN:, Declararon FUNDADO...). Es la conclusión y el fallo de la corte. Debe ser capturado como una unidad separada."
   ]
  },
  {
   "cell_type": "markdown",
   "metadata": {},
   "source": [
    "Vamos a utilizar el codigo que escribimos en el script leer_pdf.py"
   ]
  },
  {
   "cell_type": "code",
   "execution_count": 5,
   "metadata": {},
   "outputs": [
    {
     "name": "stdout",
     "output_type": "stream",
     "text": [
      "El PDF tiene 12 paginas\n",
      "\n",
      "---Inicio del PDF---\n",
      "SEGUNDA SALA DE DERECHO CONSTITUCIONAL Y SOCIAL TRANSITORIA \n",
      "CORTE SUPREMA DE JUSTICIA DE LA REPÚBLICA \n",
      " \n",
      "CASACIÓN LABORAL Nº 26240-2022   \n",
      "HUÁNUCO     \n",
      "Desnaturalización de contrato y otros  \n",
      "PROCESO ABREVIADO LABORAL – NLPT \n",
      " \n",
      "1 \n",
      " \n",
      " \n",
      " \n",
      " \n",
      "Lima, siete de noviembre de dos mil veinticuatro.- \n",
      "VISTA; la causa número veintiséis mil doscientos cuarenta, guion dos mil \n",
      "veintidós, HUÁNUCO; en audiencia pública de la fecha; y luego de efectuada la \n",
      "votación con arreglo a ley, se emite la siguiente sente...\n",
      "---Fin del PDF---\n"
     ]
    }
   ],
   "source": [
    "# Este script probaremos la extraccion de un pdf con pymupdf\n",
    "import fitz\n",
    "\n",
    "pdf_path = \"../pdfs/Resolucion_S_N_2025-01-09 15_07_49.383,id=1007485398.pdf\"\n",
    "\n",
    "try:\n",
    "    doc = fitz.open(pdf_path) # Abrimos el pdf\n",
    "\n",
    "    print(f\"El PDF tiene {doc.page_count} paginas\")\n",
    "\n",
    "    full_text = \"\"\n",
    "\n",
    "    for page_num in range(doc.page_count):\n",
    "        page = doc.load_page(page_num)\n",
    "        full_text += page.get_text(\"text\")\n",
    "        full_text += \"\\n---Fin de la pagina---\".format(page_num+1)\n",
    "\n",
    "    doc.close()\n",
    "\n",
    "    print(\"\\n---Inicio del PDF---\")\n",
    "    print(full_text[0:500], end = \"...\")\n",
    "    print(\"\\n---Fin del PDF---\")\n",
    "\n",
    "except Exception as e:\n",
    "    print(f\"Error al abrir el PDF: {e}\")"
   ]
  },
  {
   "cell_type": "markdown",
   "metadata": {},
   "source": [
    "Solo hemos mostrado los primeros 500 caracteres del documento, este PDF tiene 12 paginas por lo que la cantidad de palabras y caracteres que puede haber son grandes, hemos notado algunas cosas revisando estas muestras:\n",
    "\n",
    "1. **Cabeceras SINOE:** En todos los PDF existen capturas de metadatos de SINOE pero esto tambien lo extrae pymupdf haciendo ensuciando el texto final.\n",
    "2. **Metadatos de Formato:** Los números de página (1, 2, 3...), los encabezados repetitivos (SEGUNDA SALA DE DERECHO...) y los saltos de página no aportan valor semántico y deben ser eliminados.\n",
    "3. **Posible Problema de Codificación:** La línea RazÃ³n: RESOLUCIÃ“N es un problema de codificación de caracteres (probablemente UTF-8 mal interpretado).\n",
    "4. **Estructura Oculta:** Los patrones que buscamos: Sumilla:, CONSIDERANDO, DECISIÓN."
   ]
  },
  {
   "cell_type": "markdown",
   "metadata": {},
   "source": [
    "Vamos a realizar una extracción de bloques de texto y lo filtraremos si son ruido o no, una vez limpio recontruinos el texto \"pegando\" estos bloques limpios en un texto claro."
   ]
  },
  {
   "cell_type": "code",
   "execution_count": 113,
   "metadata": {},
   "outputs": [],
   "source": [
    "import re\n",
    "\n",
    "def extraer_y_filtrar_bloques(pdf_path):\n",
    "    \"\"\"\n",
    "    Extrae bloques de texto, y filtra semánticamente los que son ruido (SINOE, etc.)\n",
    "    para reconstruir un cuerpo de texto limpio.\n",
    "    \"\"\"\n",
    "    texto_limpio_reconstruido = \"\"\n",
    "    \n",
    "    # Palabras clave que identifican un bloque como \"ruido\"\n",
    "    noise_keywords = [\n",
    "        'SINOE', 'Vocal Supremo', 'FIRMA DIGITAL', 'Servicio Digital', \n",
    "        'Razón: RESOLUCIÓN', 'D.Judicial:', 'Secretario De Sala', 'DEPA'\n",
    "    ]\n",
    "    \n",
    "    try:\n",
    "        doc = fitz.open(pdf_path)\n",
    "        for page in doc: # Recorremos cada pagina del pdf\n",
    "            # Extraemos bloques ordenados por posición vertical\n",
    "            bloques = page.get_text(\"blocks\", sort=True)\n",
    "            for b in bloques:\n",
    "                texto_bloque = b[4] # El texto del bloque\n",
    "                \n",
    "                es_ruido = False\n",
    "                # Filtramos el texto por palabras clave de ruido\n",
    "                if any(keyword in texto_bloque for keyword in noise_keywords):\n",
    "                    es_ruido = True\n",
    "                \n",
    "                # Filtramos si el bloque es el encabezado\n",
    "                if \"SEGUNDA SALA DE DERECHO CONSTITUCIONAL\" in texto_bloque:\n",
    "                    es_ruido = True\n",
    "                    \n",
    "                # Filtramos si el bloque es un pie de pagina\n",
    "                if texto_bloque.strip().startswith(\"Página \\d\"):\n",
    "                    es_ruido = True\n",
    "\n",
    "                # Si el bloque no es ruido lo agregamos al texto limpio\n",
    "                \n",
    "                if not es_ruido:\n",
    "                    texto_limpio_reconstruido += texto_bloque\n",
    "                    \n",
    "        doc.close()\n",
    "        return texto_limpio_reconstruido\n",
    "    except Exception as e:\n",
    "        print(f\"Error en la extracción v7: {e}\")\n",
    "        return \"\"\n",
    "\n",
    "def limpiar_texto(texto):\n",
    "    \"\"\"Normaliza espacios y saltos de línea.\"\"\"\n",
    "    texto = re.sub(r'\\n{3,}', '\\n\\n', texto) # Reemplaza 3 o más saltos de línea con dos\n",
    "    texto = re.sub(r' +', ' ', texto) # Reemplaza 2 o más espacios/tabs con uno\n",
    "    return texto.strip() "
   ]
  },
  {
   "cell_type": "code",
   "execution_count": 114,
   "metadata": {},
   "outputs": [],
   "source": [
    "def extraer_texto(pdf_path):\n",
    "    \"\"\"\n",
    "    Extrae el 100% del texto del PDF, sin filtros espaciales.\n",
    "    \"\"\"\n",
    "    try:\n",
    "        doc = fitz.open(pdf_path)\n",
    "        texto_completo = \"\"\n",
    "        for page in doc:\n",
    "            texto_completo += page.get_text(\"text\", sort=True) \n",
    "        doc.close()\n",
    "        return texto_completo\n",
    "    except Exception as e:\n",
    "        print(f\"Error al procesar {pdf_path}: {e}\")\n",
    "        return \"\""
   ]
  },
  {
   "cell_type": "code",
   "execution_count": 115,
   "metadata": {},
   "outputs": [],
   "source": [
    "def extraer_metadatos(texto_crudo):\n",
    "    \"\"\"\n",
    "    Extrae metadatos estructurados de la cabecera del texto crudo.\n",
    "    \"\"\"\n",
    "    metadatos = {}\n",
    "    \n",
    "    patron_casacion = r\"CASACIÓN LABORAL (?:Nº|N.º)\\s*(\\d+-\\d+)\\s*([A-ZÁÉÍÓÚ\\s]+?)\\s+(Desnaturalización de contrato y otros|Homologación de remuneraciones y otros.*?)\\s+PROCESO\"\n",
    "    \n",
    "    match = re.search(patron_casacion, texto_crudo, re.DOTALL | re.IGNORECASE)\n",
    "    \n",
    "    if match:\n",
    "        metadatos['n_casacion'] = match.group(1).strip()\n",
    "        metadatos['lugar'] = match.group(2).strip()\n",
    "        metadatos['materia'] = match.group(3).strip()\n",
    "    \n",
    "    return metadatos"
   ]
  },
  {
   "cell_type": "code",
   "execution_count": 116,
   "metadata": {},
   "outputs": [],
   "source": [
    "def dividir_en_chunks_semanticos(texto_limpio):\n",
    "    \"\"\"\n",
    "    La versión de chunking más simple. Toma el texto limpio y lo divide\n",
    "    directamente por las secciones clave.\n",
    "    \"\"\"\n",
    "\n",
    "    patron_division = r'(?=Sumilla:?|VISTA;|MATERIA DEL RECURSO|CAUSALES DEL RECURSO|CONSIDERANDO:?|DECISIÓN:?)'\n",
    "    \n",
    "    chunks = re.split(patron_division, texto_limpio)\n",
    "    \n",
    "    chunks_filtrados = [chunk.strip() for chunk in chunks if chunk.strip()]\n",
    "    \n",
    "    return chunks_filtrados"
   ]
  },
  {
   "cell_type": "code",
   "execution_count": 117,
   "metadata": {},
   "outputs": [
    {
     "data": {
      "text/plain": [
       "{'metadatos': {'n_casacion': '26240-2022',\n",
       "  'lugar': 'HUÁNUCO',\n",
       "  'materia': 'Desnaturalización de contrato y otros'},\n",
       " 'chunks': ['CORTE SUPREMA DE JUSTICIA CORTE\\n SUPREMA - Sistema de Notificaciones Electronicas\\n SINOE\\n SEDE PALACIO DE JUSTICIA,\\n Vocal Supremo:CARLOS CASAS ELISA VILMA\\n /Servicio Digital\\n Fecha: 20/12/2024 21:12:13,Razón: RESOLUCIÓN\\n JUDICIAL,D.Judicial: CORTE SUPREMA /\\n LIMA,FIRMA DIGITAL\\n\\nCORTE SUPREMA DE\\nJUSTICIA CORTE SUPREMA\\n- Sistema de Notificaciones\\nElectronicas SINOE SEGUNDA SALA DE DERECHO CONSTITUCIONAL Y SOCIAL TRANSITORIA\\nSEDE PALACIO DE JUSTICIA, CORTE SUPREMA DE JUSTICIA DE LA REPÚBLICAVocal Supremo:BURNEO\\nBERMEJO Roberto Rolando FAU\\n20159981216 soft\\nFecha: 26/12/2024 CASACIÓN LABORAL Nº 26240-2022\\n08:42:49,RazÃ³n: RESOLUCIÃ“N\\nJUDICIAL,D.Judicial: CORTE HUÁNUCO\\nSUPREMA / LIMA,FIRMA DIGITAL\\n Desnaturalización de contrato y otros\\n PROCESO ABREVIADO LABORAL – NLPT\\nCORTE SUPREMA DE\\nJUSTICIA CORTE SUPREMA\\n- Sistema de Notificaciones\\nElectronicas SINOE',\n",
       "  'Sumilla: Para la procedencia de la reposición en el empleo,\\nSEDE PALACIO DE JUSTICIA, resulta exigible que el demandante haya ingresado porVocal Supremo:MALCA\\nGUAYLUPO VICTOR RAUL concurso público de méritos, en una plaza vacante,/Servicio Digital\\nFecha: 23/12/2024 08:08:42,Razón: presupuestada y de naturaleza indeterminada, conforme alRESOLUCIÓN\\nJUDICIAL,D.Judicial: CORTE artículo 5° de la Ley número 28175 y al criterio es tablecido\\nSUPREMA / LIMA,FIRMA DIGITAL por el Tribunal Constitucional en el Precedente Vinculante N°\\n 05057-2013-PA/TC JUNIN.\\nCORTE SUPREMA DE\\nJUSTICIA CORTE SUPREMA Palabras clave: Reposición Laboral – Concurso Público –- Sistema de Notificaciones\\nElectronicas SINOE Meritocracia.\\nSEDE PALACIO DE JUSTICIA,\\nVocal Supremo:ATO ALVARADO\\nMARTIN EDUARDO /Servicio\\nDigital\\nFecha: 25/12/2024 16:53:09,Razón: Lima, siete de noviembre de dos mil veinticuatro.-RESOLUCIÓN\\nJUDICIAL,D.Judicial: CORTE\\nSUPREMA / LIMA,FIRMA DIGITAL',\n",
       "  'VISTA; la causa número veintiséis mil doscientos cuarenta, guion dos mil\\nCORTE SUPREMA DE\\nJUSTICIA CORTE SUPREMA veintidós, HUÁNUCO; en audiencia pública de la fecha; y luego de efectuada la\\n- Sistema de Notificaciones\\nElectronicas SINOE\\nSEDE PALACIO DE JUSTICIA, votación con arreglo a ley, se emite la siguiente sentencia:\\nVocal Supremo:CARRASCO\\nALARCON LUIS ALBERTO\\n/Servicio Digital\\nFecha: 26/12/2024 10:49:25,Razón:',\n",
       "  'MATERIA DEL RECURSORESOLUCIÓN\\nJUDICIAL,D.Judicial: CORTE\\nSUPREMA / LIMA,FIRMA DIGITAL\\n Se trata del recurso de casación interpuesto por la parte demandada, Registro\\nCORTE SUPREMA DE\\nJUSTICIA CORTE SUPREMA Nacional de Identificación y Estado Civil – RENIEC, mediante escrito- Sistema de Notificaciones\\nElectronicas SINOE\\nSEDE PALACIO DE JUSTICIA, presentado el catorce de setiembre de dos mil veintiuno que corre de fojas\\nSecretario De Sala -\\nSuprema:PEVES COTAQUISPE\\nLUCY ROXANA /Servicio Digital doscientos sesenta y ocho a doscientos ochenta del NO EJE, contra laFecha: 9/01/2025 14:16:15,Razón:\\nRESOLUCIÓN\\nJUDICIAL,D.Judicial: CORTESUPREMA / LIMA,FIRMA DIGITAL sentencia de vista contenida en la resolución de fecha veintiséis de agosto de\\n dos mil veintiuno que corre de fojas doscientos cuarenta y dos a doscientos\\n cuarenta y nueve del NO EJE, que revocó la sentencia de primera instancia\\n del dos de febrero de dos mil veintiuno que corre de fojas ciento cincuenta y dos\\n a ciento sesenta y seis del NO EJE, que declaró improcedente la demanda, y\\n reformándola la declararon fundada; en el proceso abreviado laboral seguido\\n por la parte demandante, Edward Johony Piskulich Solorzano, sobre\\n desnaturalización de contrato y otros.',\n",
       "  'CAUSALES DEL RECURSO\\n\\n 1 SEGUNDA SALA DE DERECHO CONSTITUCIONAL Y SOCIAL TRANSITORIA\\n CORTE SUPREMA DE JUSTICIA DE LA REPÚBLICA\\n\\n CASACIÓN LABORAL Nº 26240-2022\\n HUÁNUCO\\n Desnaturalización de contrato y otros\\n PROCESO ABREVIADO LABORAL – NLPT\\n\\nMediante resolución del veintiséis de octubre de dos mil veintitrés del cuaderno\\nde casación, esta Sala Suprema declaró procedente el recurso interpuesto por\\nla parte demandada, por las causales de:\\n\\n i) Infracción normativa de los incisos 3) y 5) del artículo 139° de la\\n Constitución Política del Perú.\\n\\n ii) Apartamiento del precedente vinculante emitido por el Tribunal\\n Constitucional en el Expediente N° 05057-2013-PA/TC .\\n\\nCorrespondiendo a esta Sala Suprema emitir pronunciamiento de fondo al\\nrespecto.',\n",
       "  'CONSIDERANDO\\n\\nPrimero. Antecedentes del caso.\\n\\n a) De la pretensión demandada: De la demanda que corre en autos, la\\n parte demandante solicita que se declare la desnaturalización de\\n contratos por locación de servicios y contratos CAS suscritos con la\\n demandada, consecuentemente se le reconozca una relación laboral a\\n plazo indeterminado bajo el régimen privado. Asimismo, solicita su\\n reposición por despido incausado.\\n\\n b) Sentencia de primera instancia: La Primer Juzgado Especializado de\\n Trabajo de la Corte Superior de Justicia de Huánuco, mediante sentencia\\n del dos de febrero de dos mil veintiuno, declaró improcedente la\\n demanda.\\n\\n Refiere que, los contratos de prestación de servicios civiles, han sido\\n para desempeñarse como Registrador por el Convenio Programa Juntos\\n por el periodo de marzo a agosto del 2008; sin embargo, a partir del 01\\n\\n 2SEGUNDA SALA DE DERECHO CONSTITUCIONAL Y SOCIAL TRANSITORIA\\n CORTE SUPREMA DE JUSTICIA DE LA REPÚBLICA\\n\\n CASACIÓN LABORAL Nº 26240-2022\\n HUÁNUCO\\n Desnaturalización de contrato y otros\\n PROCESO ABREVIADO LABORAL – NLPT\\n\\n de setiembre del 2008, el actor ingresó a laborar para la demandada, en\\n mérito de haber ganado un concurso público para ser contratado\\n mediante contratación administrativa de servicios, a fin de que preste los\\n servidos de carácter no autónomo en Actividades de la Administración\\n Publica en la Jefatura Regional 13 – Pucallpa, cuando se encontraba\\n vigente el Decreto Legislativo número 1057, iniciando la prestación de\\n sus servicios con sujeción a éste régimen especial de contratación\\n administrativa de servicios; no evidenciándose por ende tampoco\\n ninguna afectación al principio de irrenunciabilidad, porque el actor no\\n tuvo anteriormente a ésta contratación, ningún derecho adquirido que\\n hubiera sido desconocido.\\n\\n c) Sentencia de segunda instancia: La Sala Laboral de la misma Corte\\n Superior, mediante sentencia de vista del veintiséis de agosto de dos mil\\n veintiuno, revocó la sentencia apelada, y reformándola la declararon\\n fundada; declarando desnaturalizados los contratos civiles, e inválidos\\n los contratos administrativos de servicios suscritos con la demandada;\\n asimismo, ordenó que la demandada cumpla con reponer al demandante\\n a su centro de trabajo en el cargo de registrador.\\n\\n Sostienen que, el actor ha prestado sus servicios desde marzo a agosto\\n del 2008, en el cargo de Registrador, y en aplicación del Principio de\\n Primacía de la Realidad el actor en si realizaba funciones de un personal\\n permanente de la institución demandada, al efectuar una labor en forma\\n personal, remunerada y subordinada, por lo que la entidad demandada\\n no podía usar la contratación civil para cubrir una plaza de naturaleza\\n permanente; consecuentemente, resulta relevante destacar la\\n continuidad en las labores realizadas por el demandante quien ejercía de\\n la función de registrador antes y después de la suscripción del contrato\\n\\n 3 SEGUNDA SALA DE DERECHO CONSTITUCIONAL Y SOCIAL TRANSITORIA\\n CORTE SUPREMA DE JUSTICIA DE LA REPÚBLICA\\n\\n CASACIÓN LABORAL Nº 26240-2022\\n HUÁNUCO\\n Desnaturalización de contrato y otros\\n PROCESO ABREVIADO LABORAL – NLPT\\n\\n administrativos de servicios, deviniendo en inválidos por principio de\\n continuidad.\\n\\n Así también, agregaron que, no se puede desconocer los derechos ya\\n adquiridos por el actor por el principio de irrenunciabilidad de derechos\\n señalado en el artículo 26º de la Constitución Política del Perú, siendo\\n imperativo preservar los derechos fundamentales del accionante como\\n verdadera manifestaciones del principio de dignidad humana, por cuanto\\n conforme se ha indicado en el caso concreto del actor ha ejercido desde\\n su contratación civil y posterior suscripción de contratos administrativos\\n de servicios la función de Registrador, en forma permanente bajo\\n subordinación, de manera personal y remunerada por un periodo de\\n once (11) años, debiendo prevalecer el principio de continuidad laboral\\n independientemente de su modalidad contractual, y el derecho a la\\n estabilidad laboral, el cual ya lo había adquirido antes de la suscripción\\n del CAS, teniéndose en cuenta que el propio Tribunal Constitucional en\\n el expediente N° 976-2001-AA/TC destaca la protecci ón frente al\\n despido, que se encuentra consagrado en el artículo 27 de la\\n Constitución, el cual debe tenerse en cuenta a fin de no vulnerar el\\n derecho al trabajo del demandante.\\n\\nSegundo. Infracción normativa\\n\\nLa infracción normativa se produce con la afectación a las normas jurídicas en\\nque incurre la Sala Superior al emitir una resolución que pone fin al proceso,\\ndando lugar a que la parte que se considere afectada pueda interponer su\\nrecurso de casación; debiendo entenderse que dicha infracción subsume las\\ncausales de interpretación errónea, aplicación indebida e inaplicación de una\\nnorma de derecho material, pero, además, incluye otro tipo de normas como\\nson las de carácter adjetivo.\\n\\n 4 SEGUNDA SALA DE DERECHO CONSTITUCIONAL Y SOCIAL TRANSITORIA\\n CORTE SUPREMA DE JUSTICIA DE LA REPÚBLICA\\n\\n CASACIÓN LABORAL Nº 26240-2022\\n HUÁNUCO\\n Desnaturalización de contrato y otros\\n PROCESO ABREVIADO LABORAL – NLPT\\n\\nTercero. Delimitación de la controversia.\\n\\nEn el presente caso, al haberse declarado procedente el recurso de casación\\npor causales de infracción normativa1 tanto de naturaleza procesal como\\nsustantivas, resulta necesario examinar en primer término la infracción referente\\na la contravención de la norma que garantiza el derecho al debido proceso y a\\nuna debida motivación de resoluciones judiciales, porque de existir tal\\ncontravención, ya no cabe pronunciamiento sobre la causal sustantiva de la\\nmateria controvertida.\\n\\nPues, de advertirse la infracción normativa de carácter procesal, corresponderá\\na esta Suprema Sala declarar fundado el recurso de casación propuesto y la\\nnulidad de la resolución recurrida, de conformidad con el artículo 39° de la Ley\\nnúmero 29497, Nueva Ley Procesal del Trabajo; en sentido contrario, de no\\npresentarse la afectación alegada por la parte recurrente, la causal devendrá en\\ninfundada; y se procederá a analizar la causal sustantiva.\\n\\nCuarto. Causales de infracción normativa de los incisos 3) y 5) del artículo\\n139° de la Constitución Política del Perú .\\n\\nEl debido proceso puede definirse como el conjunto de garantías formales y\\nmateriales que deben ser respetadas en todo tipo de proceso judicial o\\nadministrativo con la finalidad de expedir una resolución acorde al ordenamiento\\njurídico, pero sobre todo justa.\\n\\n1 Por infracción normativa debemos entender la causal a través de la cual, la parte recurrente denuncia la\\nexistencia de un error de naturaleza procesal o sustantiva, que incide directamente sobre el sentido de lo\\ndecidido por la Sala Superior. Los errores que pueden ser alegados como infracción normativa pueden\\ncomprender a los supuestos de aplicación indebida, interpretación errónea o inaplicación de una norma, que\\ncomo se ha señalado pueden ser de carácter sustantivo o procesal.\\n\\n 5 SEGUNDA SALA DE DERECHO CONSTITUCIONAL Y SOCIAL TRANSITORIA\\n CORTE SUPREMA DE JUSTICIA DE LA REPÚBLICA\\n\\n CASACIÓN LABORAL Nº 26240-2022\\n HUÁNUCO\\n Desnaturalización de contrato y otros\\n PROCESO ABREVIADO LABORAL – NLPT\\n\\nEl derecho al debido proceso está consagrado en el inciso 3) del artículo 139°\\nde la Constitución Política del Perú, el cual establece como un principio y\\nderecho de la función jurisdiccional el siguiente:\\n\\n […] 3. La observancia del debido proceso y la tutela jurisdiccional.\\n Ninguna persona puede ser desviada de la jurisdicción predeterminada\\n por la ley, ni sometida a procedimiento distinto de los previamente\\n establecidos, ni juzgada por órganos jurisdiccionales de excepción ni por\\n comisiones especiales creadas al efecto, cualquiera sea su\\n denominación […] 5. La motivación escrita de las resoluciones judiciales\\n en todas las instancias, excepto los decretos de mero trámite, con\\n mención expresa de la ley aplicable y de los fundamentos de hecho en\\n que se sustentan […].\\n\\nEl derecho a la motivación de las resoluciones importa una exigencia en el\\nsentido de que los fundamentos que sustentan la resolución deben ser objetivos\\ny coherentes con la materia de pronunciamiento, quedando fuera de ella\\nconsideraciones de orden subjetivo o que no guarden ninguna relación con el\\nobjeto de resolución, de modo tal que, una resolución puede devenir en\\narbitraria cuando no se encuentre motivada o haya sido motivada de manera\\ndeficiente. La motivación de las decisiones judiciales es un elemento del\\nderecho al debido proceso, el cual implica que el juez, al momento de resolver,\\nfundamente su decisión en los hechos y el derecho correspondiente.\\n\\nQuinto. Esta Sala Suprema ha establecido, en la Casación número 15284-\\n2018-CAJAMARCA que tiene la calidad de Doctrina Jurisprudencial, lo\\nsiguiente:\\n\\n Se considerará que existe infracción normativa del numeral 3) del artículo\\n 139° de la Constitución Política del Estado, por fa lta de motivación o\\n\\n 6 SEGUNDA SALA DE DERECHO CONSTITUCIONAL Y SOCIAL TRANSITORIA\\n CORTE SUPREMA DE JUSTICIA DE LA REPÚBLICA\\n\\n CASACIÓN LABORAL Nº 26240-2022\\n HUÁNUCO\\n Desnaturalización de contrato y otros\\n PROCESO ABREVIADO LABORAL – NLPT\\n\\n motivación indebida de la sentencia o auto de vista, cuando la resolución\\n que se haya expedido adolezca de los defectos siguientes:\\n\\n 1. Carezca de fundamentación jurídica.\\n 2. Carezca de fundamentos de hecho.\\n 3. Carezca de logicidad.\\n 4. Carezca de congruencia.\\n 5. Aplique indebidamente, inaplique o interprete erróneamente una norma\\n de carácter procesal.\\n 6. Se fundamente en hechos falsos, pruebas inexistentes, leyes\\n supuestas o derogadas.\\n 7. Se aparte de la Doctrina Jurisprudencial de esta Sala Suprema, sin\\n expresar motivación alguna para dicho apartamiento.\\n\\nEn todos los supuestos indicados, esta Sala Suprema declarará la nulidad de la\\nsentencia o auto de vista, ordenando a la Sala Superior emitir nueva resolución.\\n\\nSexto. Solución de la causal procesal\\n\\nEn el presente caso se aprecia que la sentencia de vista ha sido expedida con\\nobservancia a la debida motivación de las resoluciones judiciales, toda vez que\\nno se advierte la existencia de alguna de las causales enumeradas en la\\nCasación N.° 15284-2018-CAJAMARCA, habiendo cumplid o la Sala de Vista\\ncon precisar los hechos y normas que sustentan su decisión, siendo que\\nademás la redacción de la Sentencia obedece a las reglas de la lógica, por lo\\nque ha respetado lo previsto en los incisos 3) y 5) del artículo 139° de la\\nConstitución Política del Perú, no evidenciándose dentro de los argumentos de\\nla parte recurrente algún vicio en el que haya incurrido la instancia de mérito, de\\ntal magnitud, que acarrearían la nulidad de la recurrida; en consecuencia, la\\ncausal procesal que se denuncia deviene en infundada.\\n\\nSéptimo. Sobre la infracciones materiales denunciadas\\n\\n 7 SEGUNDA SALA DE DERECHO CONSTITUCIONAL Y SOCIAL TRANSITORIA\\n CORTE SUPREMA DE JUSTICIA DE LA REPÚBLICA\\n\\n CASACIÓN LABORAL Nº 26240-2022\\n HUÁNUCO\\n Desnaturalización de contrato y otros\\n PROCESO ABREVIADO LABORAL – NLPT\\n\\nCorresponde analizar si el Colegiado Superior al emitir la sentencia de vista,\\nincurre en Apartamiento del precedente vinculante contenido en la\\nsentencia del Tribunal Constitucional Expediente 05057-2013-PA/TC, la\\ncual establece “Reglas procedimentales aplicables en materia de reposición\\ncomo trabajadores de duración indeterminada en la Administración Pública.”\\n\\nOctavo. Delimitación del objeto de pronunciamiento\\n\\nConforme se verifica del recurso de casación y lo actuado por las instancias de\\nmérito, el tema en controversia está relacionado a determinar si procede o no la\\naplicación del precedente vinculante emitido por el Tribunal Constitucional en la\\nsentencia recaída en el expediente número 05057-2013-PA/TC, toda vez que\\npara acceder a un puesto público en la Administración Pública debe ser por\\nconcurso público.\\n\\nAsimismo, es importante precisar que, la causal denunciada, guarda relación\\ncon lo establecido en el artículo 5° de la Ley núme ro 28175, Ley Marco del\\nEmpleo Público, el cual prescribe:\\n\\n “Artículo 5.- Acceso al empleo público\\n\\n El acceso al empleo público se realiza mediante concurso público y\\n abierto, por grupo ocupacional, en base a los méritos y capacidad de\\n las personas, en un régimen de igualdad de oportunidades.”\\n\\nNoveno. Importancia de la meritocracia para el ingreso a la función pública\\n\\nLa Ley 28175, Ley Marco del Empleo Público, establece como principios\\nesenciales el mérito y la capacidad; en cuya virtud el ingreso, permanencia,\\nmejoras remunerativas y condiciones de trabajo, así como, los ascensos en el\\nempleo público, deben fundamentarse en el mérito y capacidad de los\\npostulantes y del personal de la administración pública; asimismo, los principios\\n\\n 8 SEGUNDA SALA DE DERECHO CONSTITUCIONAL Y SOCIAL TRANSITORIA\\n CORTE SUPREMA DE JUSTICIA DE LA REPÚBLICA\\n\\n CASACIÓN LABORAL Nº 26240-2022\\n HUÁNUCO\\n Desnaturalización de contrato y otros\\n PROCESO ABREVIADO LABORAL – NLPT\\n\\nde igualdad de oportunidades sin discriminación, el carácter irrenunciable de los\\nderechos reconocidos por la Constitución e interpretación más favorable al\\ntrabajador en caso de duda, y que ninguna relación laboral puede limitar el\\nejercicio de los derechos constitucionales, ni desconocer o rebajar la dignidad\\ndel trabajador. Además, la exigencia de un concurso público, deberá ser\\nrealizado por la entidad pública, bajo un procedimiento abierto y democrático,\\nque permita una verdadera igualdad de oportunidades, a efectos de que las\\npersonas sean evaluadas de acuerdo a los ítems necesarios, circunscritos\\nsobre todo en las capacidades académicas, experiencias profesionales y otros\\nlineamientos, dependiendo del cargo respectivo.\\n\\nDécimo. Asimismo, resulta relevante citar la Sentencia emitida por el Tribunal\\nConstitucional en el Expediente número 05057-2013-PA/TC. En el fundamento\\ntrece se estableció:\\n\\n “De lo expuesto se puede sostener que el ingreso del personal con vínculo\\n laboral indeterminado, en la Administración Pública, necesariamente ha de\\n efectuarse a partir de criterios estrictamente meritocráticos, a través de un\\n concurso público y abierto”, y en los fundamentos 18 y 22, que constituyen\\n precedentes vinculantes2, prescriben: “18. (…) en los casos en los\\n casos que se acredite la desnaturalización del contrato temporal o\\n del contrato civil no podrá ordenarse la reposición a tiempo\\n indeterminado, toda vez que esta modalidad del Decreto Legislativo\\n 728, en el ámbito de la Administración Pública, exige la realización de\\n un concurso público de méritos respecto de una plaza\\n presupuestada y vacante de duración indeterminada (…) 22. En el\\n supuesto de que en un proceso de amparo el demandante no pueda ser\\n\\n2 Artículo III del Código Procesal Constitucional Las sentencias del Tribunal Constitucional que adquieren la\\nautoridad de cosa juzgada constituyen precedente vinculante cuando así lo exprese la sentencia, precisando el\\nextremo de su efecto normativo. Cuando el Tribunal Constitucional resuelva apartándose del precedente, debe\\nexpresar los fundamentos de hecho y de derecho que sustentan la sentencia y las razones por las cuales se aparta\\ndel precedente.\\n\\n 9 SEGUNDA SALA DE DERECHO CONSTITUCIONAL Y SOCIAL TRANSITORIA\\n CORTE SUPREMA DE JUSTICIA DE LA REPÚBLICA\\n\\n CASACIÓN LABORAL Nº 26240-2022\\n HUÁNUCO\\n Desnaturalización de contrato y otros\\n PROCESO ABREVIADO LABORAL – NLPT\\n\\n reincorporado por no haber ingresado por concurso público de méritos\\n para una plaza presupuestada, vacante de duración indeterminada, el juez\\n reconducirá el proceso a la vía ordinaria laboral para que la parte\\n demandante solicite la indemnización que corresponda, conforme a lo\\n previsto en el artículo 38 del TUO del Decreto Legislativo N.° 728. Dicha\\n vía proseguirá el trámite conforme a la Ley procesal de la materia y no\\n podrá ser rechazada por la causal de extemporaneidad. Una vez que el\\n juez laboral competente se avoque al conocimiento del caso, deberá\\n entenderse presentada y admitida la demanda laboral, y se otorgará al\\n demandante un plazo razonable a efectos de que adecúe su demanda\\n conforme a las reglas previstas para la etapa postulatoria del proceso\\n laboral. Transcurrido dicho plazo sin que el demandante realice la\\n respectiva adecuación, procederá el archivo del proceso”. (Resaltado\\n nuestro).\\n\\nDécimo primero. Solución al caso concreto\\n\\nDe la lectura del recurso de casación, la parte recurrente sostiene\\nprincipalmente que el demandante no cumple con los presupuestos previstos\\npor el precedente vinculante, recaído en el Expediente número 05057-2013-\\nPA/TC, pues en el ámbito de la administración pública, se le exige que haya\\ningresado mediante concurso público de méritos a una plaza presupuestada y\\nvacante de duración indeterminada, presupuestos que no han sido acreditados\\nen el presente caso.\\n\\nEl juzgado de origen declara improcedente el extremo de la reposición, pues\\nrefiere que los contratos administrativos de servicios suscritos entre las partes\\nson válidos, por ende se debe aplicar el fundamento 21 del precedente\\nvinculante Huatuco; sin embargo, por su parte, el Colegiado Superior, ampara la\\npretensión de reposición del actor, y para determinar el apartamiento del\\nprecedente vinculante citado, recaído en el Expediente número 05057-2013-\\n\\n 10 SEGUNDA SALA DE DERECHO CONSTITUCIONAL Y SOCIAL TRANSITORIA\\n CORTE SUPREMA DE JUSTICIA DE LA REPÚBLICA\\n\\n CASACIÓN LABORAL Nº 26240-2022\\n HUÁNUCO\\n Desnaturalización de contrato y otros\\n PROCESO ABREVIADO LABORAL – NLPT\\n\\nPA/TC, señala que debe prevalecer el principio de continuidad laboral\\nindependientemente de su modalidad contractual, y el derecho a la estabilidad\\nlaboral, teniéndose en cuenta que el propio Tribunal Constitucional en el\\nexpediente N° 976-2001-AA/TC destaca la protección frente al despido, que se\\nencuentra consagrado en el artículo 27 de la Constitución Política del Perú.\\n\\nDécimo segundo. Al respecto, se tiene que, el Registro Nacional de\\nIdentificación y Estado Civil – RENIEC, es una entidad de la administración\\npública, conforme el inciso 6) del artículo I del Título Preliminar del Texto Único\\nOrdenado de la Ley Nº 27444; por lo que, se encuentra dentro de los alcances\\nprevistos en el precedente vinculante emitido por el Tribunal Constitucional en la\\nsentencia, recaída en el Expediente N° 05057-2013-P A/TC.\\n\\nDécimo tercero. Siendo así, teniendo en cuenta que la parte demandante\\npretende su reposición, sin haber acreditado su ingreso a través de un concurso\\npúblico y abierto (concurso de méritos) para una plaza presupuestada y vacante\\nde duración indeterminada, requisito indispensable para el ingreso, de acuerdo\\na los principios de mérito, capacidad e igualdad de oportunidades, consagrados\\nen la Ley número 28175, Ley Marco del Empleo Público, específicamente en el\\nartículo 5° de la acotada norma, y en atención a lo establecido en el precedente\\nvinculante Expediente N° 05057-2013-PA/TC, la prete nsión de reposición\\nplanteada resulta improcedente.\\n\\nDe acuerdo con lo expuesto, se concluye que el Colegiado Superior se apartó\\ndel precedente vinculante, emitido por el Tribunal Constitucional en la\\nSentencia, recaído en el Expediente N° 05057-2013-P A/TC, pues, amparó la\\nreposición solicitada en el proceso; correspondiendo declarar fundada la causal\\ndenunciada, y por tanto fundado el recurso de casación.\\n\\nPor estas consideraciones:\\n\\n 11 SEGUNDA SALA DE DERECHO CONSTITUCIONAL Y SOCIAL TRANSITORIA\\n CORTE SUPREMA DE JUSTICIA DE LA REPÚBLICA\\n\\n CASACIÓN LABORAL Nº 26240-2022\\n HUÁNUCO\\n Desnaturalización de contrato y otros\\n PROCESO ABREVIADO LABORAL – NLPT',\n",
       "  'DECISIÓN\\n\\nDeclararon FUNDADO el recurso de casación interpuesto por la parte\\ndemandada, Registro Nacional de Identificación y Estado Civil – RENIEC,\\nmediante escrito presentado el catorce de setiembre de dos mil veintiuno que\\ncorre de fojas doscientos sesenta y ocho a doscientos ochenta del NO EJE; en\\nconsecuencia, CASARON la sentencia de vista contenida en la resolución de\\nfecha veintiséis de agosto de dos mil veintiuno que corre de fojas doscientos\\ncuarenta y dos a doscientos cuarenta y nueve del NO EJE, en el extremo que\\nordena la reposición del demandante, dejando subsistente lo demás que\\ncontiene; y actuando en sede de instancia, CONFIRMARON la Sentencia\\napelada del dos de febrero de dos mil veintiuno que corre de fojas ciento\\ncincuenta y dos a ciento sesenta y seis del NO EJE, en el extremo que declara\\nimprocedente la pretensión de reposición del actor. DISPUSIERON la\\npublicación de la presente resolución en el Diario Oficial El Peruano conforme a\\nley; en el proceso abreviado laboral seguido por la parte demandante, Edward\\nJohony Piskulicj Solorzano, sobre desnaturalización de contrato y otros, y\\ndevolvieron los actuados. Interviene como ponente la señora jueza suprema\\nCarlos Casas; notifíquese conforme a Ley.\\n\\nS.S.\\n\\nBURNEO BERMEJO\\n\\nMALCA GUAYLUPO\\n\\nATO ALVARADO\\n\\nCARRASCO ALARCÓN\\n\\nCARLOS CASAS\\n\\nJOLLA/RLH\\n\\n 12']}"
      ]
     },
     "execution_count": 117,
     "metadata": {},
     "output_type": "execute_result"
    }
   ],
   "source": [
    "texto = extraer_texto(pdf_path)\n",
    "\n",
    "texto_limpio = limpiar_texto(texto)\n",
    "\n",
    "texto_crudo_completo = extraer_texto(pdf_path)\n",
    "\n",
    "metadatos = extraer_metadatos(texto_crudo_completo)\n",
    "\n",
    "chunks = dividir_en_chunks_semanticos(texto_limpio)\n",
    "\n",
    "documento_procesado = {\n",
    "    \"metadatos\": metadatos,\n",
    "    \"chunks\": chunks,\n",
    "}\n",
    "\n",
    "documento_procesado"
   ]
  }
 ],
 "metadata": {
  "kernelspec": {
   "display_name": "venv",
   "language": "python",
   "name": "python3"
  },
  "language_info": {
   "codemirror_mode": {
    "name": "ipython",
    "version": 3
   },
   "file_extension": ".py",
   "mimetype": "text/x-python",
   "name": "python",
   "nbconvert_exporter": "python",
   "pygments_lexer": "ipython3",
   "version": "3.11.9"
  }
 },
 "nbformat": 4,
 "nbformat_minor": 2
}
